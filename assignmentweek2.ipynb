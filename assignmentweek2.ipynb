{
 "cells": [
  {
   "cell_type": "markdown",
   "id": "dd6c778d-66f4-4284-8b92-2a6836c1132b",
   "metadata": {},
   "source": [
    "Q1- How do you comment code in python ?What are the different types of comments?\n",
    "Ans- Usually we use hash(#) commond for comment but in case of if comment is too long we use triple single quotes (''') or triple double quotes (\"\"\") for comment."
   ]
  },
  {
   "cell_type": "code",
   "execution_count": 1,
   "id": "9efd39dc-0efb-4a30-8cd9-16c8728816ff",
   "metadata": {},
   "outputs": [
    {
     "data": {
      "text/plain": [
       "'In case of multi line comment.\\nwe can use quotes for comment'"
      ]
     },
     "execution_count": 1,
     "metadata": {},
     "output_type": "execute_result"
    }
   ],
   "source": [
    "#This is how we use comment feature\n",
    "\"\"\"In case of multi line comment.\n",
    "we can use quotes for comment\"\"\"\n"
   ]
  },
  {
   "cell_type": "markdown",
   "id": "bf2e96d9-b65c-4527-9e58-9a4624f910c8",
   "metadata": {},
   "source": [
    "Q2- What are variables in python?How do you declare and assign values to variable?\n",
    "Ans-Variables are used in python to store and manipulate the data. They act as containers that hold values of various types, such as numbers, Strings or objects\n",
    "                To declare and assign a value to a variable in python, you simply need to use the assignment operator (=)."
   ]
  },
  {
   "cell_type": "markdown",
   "id": "a1ba9aee-1e8e-418a-ae66-93de51e29fc3",
   "metadata": {},
   "source": [
    "Q3-How do you convert data type to another in python?\n",
    "Ans-We can convert one data to another using type to another using type conversion functions or methoed,\n",
    "Examp- int()= Converts a value to an integer data type\n",
    "str()= Converts a value to a string data type."
   ]
  },
  {
   "cell_type": "markdown",
   "id": "4da20bcc-2467-43a7-9229-b9de3c0fa9ca",
   "metadata": {},
   "source": [
    "Q4-How do you write and execute a python script from the commond line?\n",
    "Ans-To write and execute a Python script from the command line, follow these steps\n",
    "1-Open a text editor and create a new file. We can use any text editor of oufr choice, such as Notepad, Sublime Text, Visual Studio Code, or any other editor you prefer.\n",
    "2-Write our Python code in the text editor. For example, let's create a simple script that prints \"Hello, World!\":\n",
    "3-Save the file with a '.py' extension, such as script.py. Make sure to save it in a location that you can easily navigate to using the command line.\n",
    "4-Open the command line or terminal on our operating system. The method for opening the command line varies depending on our operating system\n",
    "5-Navigate to the directory where we saved the Python script using the 'cd ' command\n",
    "6-Once we're in the correct directory, you can execute the Python script\n",
    "7-Press Enter to run the command. The Python script will be executed"
   ]
  },
  {
   "cell_type": "markdown",
   "id": "2ba4dd79-d6b5-43af-92cd-4e0e26958bae",
   "metadata": {},
   "source": [
    "Q5-Give a list my_list=[1,2,3 4,5], write a code to slice the list and obtain the sub- list [2,3].\n",
    "Ans-Here is an example of slicing the code"
   ]
  },
  {
   "cell_type": "code",
   "execution_count": 4,
   "id": "b43158e3-e641-4898-96e4-71332565de54",
   "metadata": {},
   "outputs": [
    {
     "name": "stdout",
     "output_type": "stream",
     "text": [
      "[2, 3]\n"
     ]
    }
   ],
   "source": [
    "my_list=[1,2,3,4,5]\n",
    "print(my_list[1:3])"
   ]
  },
  {
   "cell_type": "markdown",
   "id": "d08a0857-eaed-4525-89eb-396fa79f8d23",
   "metadata": {},
   "source": [
    "Q6-What is a complex number in mathematics,and how is it represented in python?\n",
    "Ans-In mathematics complex number is that no. which contain integer plus value in itself is callied complex no.\n",
    "for ex- 7+8i is a complex no in mathematics\n",
    "But in python we can wrote complex no. with the help of \"j\"\n",
    "for ex- 7+8j"
   ]
  },
  {
   "cell_type": "code",
   "execution_count": 5,
   "id": "d03fd89e-02fd-423e-a915-b01b0c876428",
   "metadata": {},
   "outputs": [
    {
     "name": "stdout",
     "output_type": "stream",
     "text": [
      "<class 'complex'>\n"
     ]
    }
   ],
   "source": [
    "a=7+8j\n",
    "print(type(a))"
   ]
  },
  {
   "cell_type": "markdown",
   "id": "73618a80-f7e1-4fac-b1a0-1f3d2ebae775",
   "metadata": {},
   "source": [
    "Q7-What is the correct way to declare a variable named age and design the value 25 to it?\n",
    "Ans-Correct way to declare a variable named age and design the value 25 is dictionary \n",
    "For ex-"
   ]
  },
  {
   "cell_type": "code",
   "execution_count": 6,
   "id": "95e6cadb-09be-43cc-b3e7-8cad2acc6baa",
   "metadata": {},
   "outputs": [],
   "source": [
    "b={'age':25}"
   ]
  },
  {
   "cell_type": "markdown",
   "id": "caf9637d-86c5-4a05-871e-6da0bf8b8fa1",
   "metadata": {},
   "source": [
    "Q8- Declare a variable named price and assign the value 9.99 to it. What data type does this variable belong to?\n",
    "Ans-"
   ]
  },
  {
   "cell_type": "code",
   "execution_count": 10,
   "id": "5805cdba-c5b5-4855-89e4-210f0ec5ee85",
   "metadata": {},
   "outputs": [
    {
     "data": {
      "text/plain": [
       "float"
      ]
     },
     "execution_count": 10,
     "metadata": {},
     "output_type": "execute_result"
    }
   ],
   "source": [
    "c={'price':9.99}\n",
    "type(c['price'])"
   ]
  },
  {
   "cell_type": "markdown",
   "id": "d50eb884-101a-4271-a5cf-ea6111e010d9",
   "metadata": {},
   "source": [
    "Q9-Create a variable named name and assign your full name to it as a string. How would you print the value of this variable?\n",
    "Ans-"
   ]
  },
  {
   "cell_type": "code",
   "execution_count": 11,
   "id": "d509d4a7-edd2-495b-82da-5eb4f38ecde2",
   "metadata": {},
   "outputs": [
    {
     "name": "stdout",
     "output_type": "stream",
     "text": [
      "siddharth singh\n"
     ]
    }
   ],
   "source": [
    "d={'name':'siddharth singh'}\n",
    "print(d['name'])"
   ]
  },
  {
   "cell_type": "markdown",
   "id": "6e8e58d5-b84a-461e-9eae-76d416a33fd1",
   "metadata": {},
   "source": [
    "Q10-Given the string \"Hello,World!\",extract the substring \"World\".\n",
    "Ans-"
   ]
  },
  {
   "cell_type": "code",
   "execution_count": 17,
   "id": "ec6ae599-c171-4bd8-ac7f-c32f6876e60a",
   "metadata": {},
   "outputs": [
    {
     "name": "stdout",
     "output_type": "stream",
     "text": [
      "World!\n"
     ]
    }
   ],
   "source": [
    "s=\"Hello,World!\"\n",
    "print(s[6:12])"
   ]
  },
  {
   "cell_type": "markdown",
   "id": "491e07b7-e0f2-495b-a4ba-f7d0546620a9",
   "metadata": {},
   "source": [
    "Q11-Create a variable named \"is_student\" and assign it a boolean value indicating whether you are currently a student or not.\n",
    "Ans-"
   ]
  },
  {
   "cell_type": "code",
   "execution_count": 23,
   "id": "c160616a-ec02-4d5a-a47d-2278ce97cc42",
   "metadata": {},
   "outputs": [
    {
     "name": "stdin",
     "output_type": "stream",
     "text": [
      "Enter value >>> true\n"
     ]
    },
    {
     "ename": "NameError",
     "evalue": "name 'true' is not defined",
     "output_type": "error",
     "traceback": [
      "\u001b[0;31m---------------------------------------------------------------------------\u001b[0m",
      "\u001b[0;31mNameError\u001b[0m                                 Traceback (most recent call last)",
      "Cell \u001b[0;32mIn[23], line 2\u001b[0m\n\u001b[1;32m      1\u001b[0m is_student\u001b[38;5;241m=\u001b[39m\u001b[38;5;28minput\u001b[39m(\u001b[38;5;124m\"\u001b[39m\u001b[38;5;124mEnter value >>>\u001b[39m\u001b[38;5;124m\"\u001b[39m)\n\u001b[0;32m----> 2\u001b[0m \u001b[38;5;28;01mif\u001b[39;00m  is_student\u001b[38;5;241m==\u001b[39m\u001b[43mtrue\u001b[49m:\n\u001b[1;32m      3\u001b[0m     \u001b[38;5;28mprint\u001b[39m(\u001b[38;5;124m\"\u001b[39m\u001b[38;5;124mcurrently student\u001b[39m\u001b[38;5;124m\"\u001b[39m)\n\u001b[1;32m      4\u001b[0m \u001b[38;5;28;01melse\u001b[39;00m:\n",
      "\u001b[0;31mNameError\u001b[0m: name 'true' is not defined"
     ]
    }
   ],
   "source": [
    "is_student=input(\"Enter value >>>\")\n",
    "if  is_student==true:\n",
    "    print(\"currently student\")\n",
    "else:\n",
    "    print(\"not student\")"
   ]
  },
  {
   "cell_type": "code",
   "execution_count": null,
   "id": "705dec9c-d82f-4d3e-b11a-a4688d889afe",
   "metadata": {},
   "outputs": [],
   "source": []
  },
  {
   "cell_type": "code",
   "execution_count": null,
   "id": "e3fbb3a1-55b0-4e86-a2fa-e6bdc2f5f9f9",
   "metadata": {},
   "outputs": [],
   "source": []
  },
  {
   "cell_type": "code",
   "execution_count": null,
   "id": "4e6a54ef-0038-413d-8d24-d3277e2f35fe",
   "metadata": {},
   "outputs": [],
   "source": []
  },
  {
   "cell_type": "code",
   "execution_count": null,
   "id": "6a198344-03ae-4124-a029-a253c193f30e",
   "metadata": {},
   "outputs": [],
   "source": []
  },
  {
   "cell_type": "code",
   "execution_count": null,
   "id": "b9b54324-4d7b-4605-ba13-4385c861b698",
   "metadata": {},
   "outputs": [],
   "source": []
  },
  {
   "cell_type": "code",
   "execution_count": null,
   "id": "706f0a52-2e3c-4329-b62b-eb44de37a47d",
   "metadata": {},
   "outputs": [],
   "source": []
  }
 ],
 "metadata": {
  "kernelspec": {
   "display_name": "Python 3 (ipykernel)",
   "language": "python",
   "name": "python3"
  },
  "language_info": {
   "codemirror_mode": {
    "name": "ipython",
    "version": 3
   },
   "file_extension": ".py",
   "mimetype": "text/x-python",
   "name": "python",
   "nbconvert_exporter": "python",
   "pygments_lexer": "ipython3",
   "version": "3.10.8"
  }
 },
 "nbformat": 4,
 "nbformat_minor": 5
}
